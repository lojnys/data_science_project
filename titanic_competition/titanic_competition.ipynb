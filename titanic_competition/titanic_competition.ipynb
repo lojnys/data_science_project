{
 "cells": [
  {
   "cell_type": "markdown",
   "id": "3080f7d3-61be-42cc-93bf-ce01b70e0c63",
   "metadata": {},
   "source": [
    "# Titanic Survivor Prediction Competition\n",
    "\n",
    "By Yushin Nam"
   ]
  },
  {
   "cell_type": "markdown",
   "id": "256c4fa7-9ed9-4f3b-9f93-fefa79ef6756",
   "metadata": {
    "tags": []
   },
   "source": [
    "Question: “What sorts of people were more likely to survive?”"
   ]
  },
  {
   "cell_type": "markdown",
   "id": "152a3fdd-23c1-45da-8aff-c3b94cefb624",
   "metadata": {},
   "source": [
    "## Loading Packages"
   ]
  },
  {
   "cell_type": "code",
   "execution_count": 1,
   "id": "0f8fff9f-43ba-4aa9-94c4-511e6f4aed44",
   "metadata": {
    "tags": []
   },
   "outputs": [
    {
     "name": "stdout",
     "output_type": "stream",
     "text": [
      "package loaded\n"
     ]
    }
   ],
   "source": [
    "import numpy as np\n",
    "import pandas as pd\n",
    "import matplotlib.pyplot as plt\n",
    "%matplotlib inline\n",
    "print(\"package loaded\")"
   ]
  },
  {
   "cell_type": "markdown",
   "id": "d713c87c-3e69-42c0-aa3e-9c9964ed8e3e",
   "metadata": {},
   "source": [
    "## 1. Exploratory Data Analysis"
   ]
  },
  {
   "cell_type": "markdown",
   "id": "065c77a9-123f-4993-b68a-3c42f0a15631",
   "metadata": {},
   "source": [
    "### 1.1 Data Overview"
   ]
  },
  {
   "cell_type": "markdown",
   "id": "697801ce-b4b8-4b6e-ae3d-84dabe3aadc4",
   "metadata": {},
   "source": [
    "### 1.2 Data Exploration"
   ]
  },
  {
   "cell_type": "markdown",
   "id": "3f90c52e-51b3-4c3d-8018-2ebd442c7126",
   "metadata": {},
   "source": [
    "### 1.3 Univariate Analysis"
   ]
  },
  {
   "cell_type": "markdown",
   "id": "6b5d4772-2678-479a-9c76-a5f88c4c3407",
   "metadata": {},
   "source": [
    "### 1.4 Multivariate Analysis"
   ]
  },
  {
   "cell_type": "markdown",
   "id": "f7511069-c6ac-4d05-8978-09f28ee26134",
   "metadata": {},
   "source": [
    "### 1.5 Feature Generation (maybe)"
   ]
  },
  {
   "cell_type": "markdown",
   "id": "b6c48bc3-996b-4982-9b0d-05e60a0784de",
   "metadata": {},
   "source": [
    "## 2. Processing Data"
   ]
  },
  {
   "cell_type": "markdown",
   "id": "a2847acc-acb1-4da5-bc5f-5aee3e77dc2c",
   "metadata": {},
   "source": [
    "### 2.1 Missing Values"
   ]
  },
  {
   "cell_type": "markdown",
   "id": "958813d3-2ad3-4d0f-a513-bbd6d7356f48",
   "metadata": {},
   "source": [
    "### 2.2 Outliers"
   ]
  },
  {
   "cell_type": "markdown",
   "id": "f99b752f-0440-45ee-9d7e-09bbd1a9c948",
   "metadata": {},
   "source": [
    "### 2.3 Scaling/Encoding"
   ]
  },
  {
   "cell_type": "markdown",
   "id": "7d1b0d70-de9a-49e4-ab36-85024f99fcef",
   "metadata": {},
   "source": [
    "## 3. Methodology"
   ]
  },
  {
   "cell_type": "markdown",
   "id": "6cab20e9-ddd2-4694-90a9-4bd46bbae4ef",
   "metadata": {},
   "source": [
    "## 4. Modeling"
   ]
  },
  {
   "cell_type": "markdown",
   "id": "c4457a65-7a9c-47cd-9796-2bbb13305583",
   "metadata": {},
   "source": [
    "### 4.1 Train-Test Split"
   ]
  },
  {
   "cell_type": "markdown",
   "id": "77f47aa1-6150-4eeb-a3a7-f4855b8b843a",
   "metadata": {},
   "source": [
    "### 4.2 Training"
   ]
  },
  {
   "cell_type": "markdown",
   "id": "7a0a0ea2-79f9-4bd0-9cce-7a00306605ed",
   "metadata": {},
   "source": [
    "### 4.3 Evaluation"
   ]
  },
  {
   "cell_type": "markdown",
   "id": "4006b425-5754-4f53-baa9-cd673ff4692d",
   "metadata": {},
   "source": [
    "### 4.4 Analysis"
   ]
  },
  {
   "cell_type": "markdown",
   "id": "85188d65-57a9-4fd3-b9f9-1a1dacccc6ff",
   "metadata": {},
   "source": [
    "### 4.5 Improvements"
   ]
  },
  {
   "cell_type": "code",
   "execution_count": null,
   "id": "d6440529-25a5-4702-b0e0-8dce29fbb350",
   "metadata": {},
   "outputs": [],
   "source": []
  }
 ],
 "metadata": {
  "kernelspec": {
   "display_name": "Python 3 (ipykernel)",
   "language": "python",
   "name": "python3"
  },
  "language_info": {
   "codemirror_mode": {
    "name": "ipython",
    "version": 3
   },
   "file_extension": ".py",
   "mimetype": "text/x-python",
   "name": "python",
   "nbconvert_exporter": "python",
   "pygments_lexer": "ipython3",
   "version": "3.11.5"
  }
 },
 "nbformat": 4,
 "nbformat_minor": 5
}
